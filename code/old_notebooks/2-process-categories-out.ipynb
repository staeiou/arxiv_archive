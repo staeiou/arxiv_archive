{
 "cells": [
  {
   "cell_type": "code",
   "execution_count": 1,
   "metadata": {},
   "outputs": [],
   "source": [
    "import pandas as pd\n",
    "import numpy as np\n",
    "import glob\n",
    "import os\n",
    "import datetime\n",
    "import pathlib\n",
    "%matplotlib inline"
   ]
  },
  {
   "cell_type": "code",
   "execution_count": 2,
   "metadata": {},
   "outputs": [],
   "source": [
    "dumpdate = \"20191219\""
   ]
  },
  {
   "cell_type": "code",
   "execution_count": 3,
   "metadata": {},
   "outputs": [],
   "source": [
    "def time_elapsed(start):\n",
    "    end = datetime.datetime.now()\n",
    "\n",
    "    time_to_run = end - start\n",
    "    minutes = int(time_to_run.seconds/60)\n",
    "    seconds = time_to_run.seconds % 60\n",
    "    return \"Total runtime: \" + str(minutes) + \" minutes, \" + str(seconds) + \" seconds\""
   ]
  },
  {
   "cell_type": "code",
   "execution_count": 4,
   "metadata": {},
   "outputs": [],
   "source": [
    "start = datetime.datetime.now()\n"
   ]
  },
  {
   "cell_type": "markdown",
   "metadata": {},
   "source": [
    "## Import processed data "
   ]
  },
  {
   "cell_type": "code",
   "execution_count": 5,
   "metadata": {},
   "outputs": [
    {
     "data": {
      "text/plain": [
       "1483806"
      ]
     },
     "execution_count": 5,
     "metadata": {},
     "output_type": "execute_result"
    }
   ],
   "source": [
    "df_all = pd.read_csv(\"processed_data/\" + dumpdate + \"/arxiv-oai-af.tsv\", sep=\"\\t\")\n",
    "len(df_all)"
   ]
  },
  {
   "cell_type": "code",
   "execution_count": 6,
   "metadata": {
    "scrolled": true
   },
   "outputs": [
    {
     "data": {
      "text/html": [
       "<div>\n",
       "<style scoped>\n",
       "    .dataframe tbody tr th:only-of-type {\n",
       "        vertical-align: middle;\n",
       "    }\n",
       "\n",
       "    .dataframe tbody tr th {\n",
       "        vertical-align: top;\n",
       "    }\n",
       "\n",
       "    .dataframe thead th {\n",
       "        text-align: right;\n",
       "    }\n",
       "</style>\n",
       "<table border=\"1\" class=\"dataframe\">\n",
       "  <thead>\n",
       "    <tr style=\"text-align: right;\">\n",
       "      <th></th>\n",
       "      <th>51</th>\n",
       "      <th>52</th>\n",
       "      <th>53</th>\n",
       "    </tr>\n",
       "  </thead>\n",
       "  <tbody>\n",
       "    <tr>\n",
       "      <th>abstract</th>\n",
       "      <td>We examine the possibility of the inclusion ...</td>\n",
       "      <td>We present an investigation of sample select...</td>\n",
       "      <td>In this paper, we consider the phase recover...</td>\n",
       "    </tr>\n",
       "    <tr>\n",
       "      <th>acm_class</th>\n",
       "      <td>NaN</td>\n",
       "      <td>NaN</td>\n",
       "      <td>NaN</td>\n",
       "    </tr>\n",
       "    <tr>\n",
       "      <th>arxiv_id</th>\n",
       "      <td>astro-ph/9705080</td>\n",
       "      <td>1109.2787</td>\n",
       "      <td>1410.1368</td>\n",
       "    </tr>\n",
       "    <tr>\n",
       "      <th>author_text</th>\n",
       "      <td>Helio J. Rocha-Pinto, Walter J. Maciel</td>\n",
       "      <td>Andreas Schulze, Lutz Wisotzki</td>\n",
       "      <td>Angélique Drémeau, Florent Krzakala</td>\n",
       "    </tr>\n",
       "    <tr>\n",
       "      <th>categories</th>\n",
       "      <td>astro-ph</td>\n",
       "      <td>astro-ph.CO</td>\n",
       "      <td>cs.IT,math.IT,math.ST,stat.AP,stat.TH</td>\n",
       "    </tr>\n",
       "    <tr>\n",
       "      <th>comments</th>\n",
       "      <td>tex file plus 5 postscript figures. Plain Tex,...</td>\n",
       "      <td>20 pages, 20 figures, accepted for publication...</td>\n",
       "      <td>To appear in the proceedings of IEEE Int'l Con...</td>\n",
       "    </tr>\n",
       "    <tr>\n",
       "      <th>created</th>\n",
       "      <td>1997-05-12</td>\n",
       "      <td>2011-09-13</td>\n",
       "      <td>2014-10-06</td>\n",
       "    </tr>\n",
       "    <tr>\n",
       "      <th>doi</th>\n",
       "      <td>NaN</td>\n",
       "      <td>10.1051/0004-6361/201117564</td>\n",
       "      <td>10.1109/ICASSP.2015.7178654</td>\n",
       "    </tr>\n",
       "    <tr>\n",
       "      <th>num_authors</th>\n",
       "      <td>2</td>\n",
       "      <td>2</td>\n",
       "      <td>2</td>\n",
       "    </tr>\n",
       "    <tr>\n",
       "      <th>num_categories</th>\n",
       "      <td>1</td>\n",
       "      <td>1</td>\n",
       "      <td>5</td>\n",
       "    </tr>\n",
       "    <tr>\n",
       "      <th>primary_cat</th>\n",
       "      <td>astro-ph</td>\n",
       "      <td>astro-ph.CO</td>\n",
       "      <td>cs.IT</td>\n",
       "    </tr>\n",
       "    <tr>\n",
       "      <th>title</th>\n",
       "      <td>The G dwarf Metallicity Distribution and the P...</td>\n",
       "      <td>Selection effects in the black hole-bulge rela...</td>\n",
       "      <td>Phase recovery from a Bayesian point of view: ...</td>\n",
       "    </tr>\n",
       "    <tr>\n",
       "      <th>updated</th>\n",
       "      <td>NaN</td>\n",
       "      <td>NaN</td>\n",
       "      <td>2015-02-09</td>\n",
       "    </tr>\n",
       "  </tbody>\n",
       "</table>\n",
       "</div>"
      ],
      "text/plain": [
       "                                                               51  \\\n",
       "abstract          We examine the possibility of the inclusion ...   \n",
       "acm_class                                                     NaN   \n",
       "arxiv_id                                         astro-ph/9705080   \n",
       "author_text                Helio J. Rocha-Pinto, Walter J. Maciel   \n",
       "categories                                               astro-ph   \n",
       "comments        tex file plus 5 postscript figures. Plain Tex,...   \n",
       "created                                                1997-05-12   \n",
       "doi                                                           NaN   \n",
       "num_authors                                                     2   \n",
       "num_categories                                                  1   \n",
       "primary_cat                                              astro-ph   \n",
       "title           The G dwarf Metallicity Distribution and the P...   \n",
       "updated                                                       NaN   \n",
       "\n",
       "                                                               52  \\\n",
       "abstract          We present an investigation of sample select...   \n",
       "acm_class                                                     NaN   \n",
       "arxiv_id                                                1109.2787   \n",
       "author_text                        Andreas Schulze, Lutz Wisotzki   \n",
       "categories                                            astro-ph.CO   \n",
       "comments        20 pages, 20 figures, accepted for publication...   \n",
       "created                                                2011-09-13   \n",
       "doi                                   10.1051/0004-6361/201117564   \n",
       "num_authors                                                     2   \n",
       "num_categories                                                  1   \n",
       "primary_cat                                           astro-ph.CO   \n",
       "title           Selection effects in the black hole-bulge rela...   \n",
       "updated                                                       NaN   \n",
       "\n",
       "                                                               53  \n",
       "abstract          In this paper, we consider the phase recover...  \n",
       "acm_class                                                     NaN  \n",
       "arxiv_id                                                1410.1368  \n",
       "author_text                   Angélique Drémeau, Florent Krzakala  \n",
       "categories                  cs.IT,math.IT,math.ST,stat.AP,stat.TH  \n",
       "comments        To appear in the proceedings of IEEE Int'l Con...  \n",
       "created                                                2014-10-06  \n",
       "doi                                   10.1109/ICASSP.2015.7178654  \n",
       "num_authors                                                     2  \n",
       "num_categories                                                  5  \n",
       "primary_cat                                                 cs.IT  \n",
       "title           Phase recovery from a Bayesian point of view: ...  \n",
       "updated                                                2015-02-09  "
      ]
     },
     "execution_count": 6,
     "metadata": {},
     "output_type": "execute_result"
    }
   ],
   "source": [
    "df_all[51:54].transpose()"
   ]
  },
  {
   "cell_type": "markdown",
   "metadata": {},
   "source": [
    "## Processing\n"
   ]
  },
  {
   "cell_type": "code",
   "execution_count": 7,
   "metadata": {},
   "outputs": [],
   "source": [
    "def list_to_string(l):\n",
    "    return ', '.join(l)"
   ]
  },
  {
   "cell_type": "code",
   "execution_count": 8,
   "metadata": {},
   "outputs": [],
   "source": [
    "def remove_initial_space(s):\n",
    "    if s[0] == ' ':\n",
    "        return s[1:]\n",
    "    else:\n",
    "        return s"
   ]
  },
  {
   "cell_type": "code",
   "execution_count": 9,
   "metadata": {},
   "outputs": [],
   "source": [
    "df_all.abstract = df_all.abstract.apply(str.replace,args=(\"\\n\",\" \"))\n",
    "df_all.abstract = df_all.abstract.apply(str.replace,args=(\"  \",\" \"))\n",
    "df_all.abstract = df_all.abstract.apply(str.replace,args=(\"  \",\" \"))\n",
    "df_all.abstract = df_all.abstract.apply(remove_initial_space)\n",
    "df_all.title = df_all.title.apply(str.replace,args=(\"\\n\",\" \"))\n",
    "df_all.title = df_all.title.apply(str.replace,args=(\"  \",\" \"))\n",
    "df_all.title = df_all.title.apply(str.replace,args=(\"  \",\" \"))"
   ]
  },
  {
   "cell_type": "code",
   "execution_count": 10,
   "metadata": {},
   "outputs": [
    {
     "data": {
      "text/plain": [
       "'In this article we prove the following version of the Weak-BAB conjecture for $3$-folds in char $p>5$: Fix a DCC set $I\\\\subset [0, 1)$ and an algebraically closed field $k$ of characteristic $p>5$. Let $\\\\mathfrak{D}$ be a collection of klt pairs $(X, \\\\Delta)$ satisfying the following properties: (1) $X$ is a projective $3$-fold, (2) $\\\\Delta$ is an $\\\\mathbb{R}$-divisor with coefficients in $I$, (3) $K_X+\\\\Delta\\\\equiv 0$, and (4) $-K_X$ is ample. Then the set $\\\\{\\\\mbox{vol}_X(-K_X) \\\\ | \\\\ (X, \\\\Delta)\\\\in\\\\mathfrak{D}\\\\mbox{ for some }\\\\Delta\\\\}$ is bounded from above. '"
      ]
     },
     "execution_count": 10,
     "metadata": {},
     "output_type": "execute_result"
    }
   ],
   "source": [
    "df_all.iloc[5].abstract"
   ]
  },
  {
   "cell_type": "markdown",
   "metadata": {},
   "source": [
    "### Get to one dataframe for each category"
   ]
  },
  {
   "cell_type": "code",
   "execution_count": 11,
   "metadata": {},
   "outputs": [],
   "source": [
    "df_all['categories_list'] = df_all.categories.apply(str.split,args=\",\")"
   ]
  },
  {
   "cell_type": "code",
   "execution_count": 12,
   "metadata": {},
   "outputs": [
    {
     "data": {
      "text/plain": [
       "['stat.ML', 'cs.AI', 'cs.LG', 'cs.SI']"
      ]
     },
     "execution_count": 12,
     "metadata": {},
     "output_type": "execute_result"
    }
   ],
   "source": [
    "df_all.iloc[3].categories_list"
   ]
  },
  {
   "cell_type": "code",
   "execution_count": 13,
   "metadata": {},
   "outputs": [],
   "source": [
    "categories = []\n",
    "\n",
    "for row in df_all.iterrows():\n",
    "    for cat in row[1].categories_list:\n",
    "        #print(cat)\n",
    "        if cat not in categories:\n",
    "            categories.append(cat)\n",
    "      "
   ]
  },
  {
   "cell_type": "code",
   "execution_count": 14,
   "metadata": {},
   "outputs": [
    {
     "data": {
      "text/plain": [
       "175"
      ]
     },
     "execution_count": 14,
     "metadata": {},
     "output_type": "execute_result"
    }
   ],
   "source": [
    "categories.sort()\n",
    "len(categories)"
   ]
  },
  {
   "cell_type": "code",
   "execution_count": 15,
   "metadata": {},
   "outputs": [],
   "source": [
    "df_dict = {}\n",
    "\n",
    "for cat in categories:\n",
    "   # print(cat)\n",
    "    df_dict[cat] = df_all[df_all['categories'].str.contains(cat)]\n",
    "    \n",
    "    df_dict[cat] = df_dict[cat].sort_values(by='created')\n",
    "   # print(len(df_dict[cat]))"
   ]
  },
  {
   "cell_type": "code",
   "execution_count": null,
   "metadata": {},
   "outputs": [],
   "source": []
  },
  {
   "cell_type": "code",
   "execution_count": 16,
   "metadata": {},
   "outputs": [
    {
     "data": {
      "text/html": [
       "<div>\n",
       "<style scoped>\n",
       "    .dataframe tbody tr th:only-of-type {\n",
       "        vertical-align: middle;\n",
       "    }\n",
       "\n",
       "    .dataframe tbody tr th {\n",
       "        vertical-align: top;\n",
       "    }\n",
       "\n",
       "    .dataframe thead th {\n",
       "        text-align: right;\n",
       "    }\n",
       "</style>\n",
       "<table border=\"1\" class=\"dataframe\">\n",
       "  <thead>\n",
       "    <tr style=\"text-align: right;\">\n",
       "      <th></th>\n",
       "      <th>abstract</th>\n",
       "      <th>acm_class</th>\n",
       "      <th>arxiv_id</th>\n",
       "      <th>author_text</th>\n",
       "      <th>categories</th>\n",
       "      <th>comments</th>\n",
       "      <th>created</th>\n",
       "      <th>doi</th>\n",
       "      <th>num_authors</th>\n",
       "      <th>num_categories</th>\n",
       "      <th>primary_cat</th>\n",
       "      <th>title</th>\n",
       "      <th>updated</th>\n",
       "      <th>categories_list</th>\n",
       "    </tr>\n",
       "  </thead>\n",
       "  <tbody>\n",
       "    <tr>\n",
       "      <th>308834</th>\n",
       "      <td>We describe a simple way of obtaining horizon ...</td>\n",
       "      <td>NaN</td>\n",
       "      <td>1204.1422</td>\n",
       "      <td>Bibhas Ranjan Majhi, T. Padmanabhan</td>\n",
       "      <td>gr-qc,hep-th</td>\n",
       "      <td>v2: a comment added; accepted in PRD (Rapid Co...</td>\n",
       "      <td>2012-04-06</td>\n",
       "      <td>10.1103/PhysRevD.86.101501</td>\n",
       "      <td>2</td>\n",
       "      <td>2</td>\n",
       "      <td>gr-qc</td>\n",
       "      <td>Noether current from the surface term of gravi...</td>\n",
       "      <td>2012-10-17</td>\n",
       "      <td>[gr-qc, hep-th]</td>\n",
       "    </tr>\n",
       "  </tbody>\n",
       "</table>\n",
       "</div>"
      ],
      "text/plain": [
       "                                                 abstract acm_class  \\\n",
       "308834  We describe a simple way of obtaining horizon ...       NaN   \n",
       "\n",
       "         arxiv_id                          author_text    categories  \\\n",
       "308834  1204.1422  Bibhas Ranjan Majhi, T. Padmanabhan  gr-qc,hep-th   \n",
       "\n",
       "                                                 comments     created  \\\n",
       "308834  v2: a comment added; accepted in PRD (Rapid Co...  2012-04-06   \n",
       "\n",
       "                               doi  num_authors  num_categories primary_cat  \\\n",
       "308834  10.1103/PhysRevD.86.101501            2               2       gr-qc   \n",
       "\n",
       "                                                    title     updated  \\\n",
       "308834  Noether current from the surface term of gravi...  2012-10-17   \n",
       "\n",
       "        categories_list  \n",
       "308834  [gr-qc, hep-th]  "
      ]
     },
     "execution_count": 16,
     "metadata": {},
     "output_type": "execute_result"
    }
   ],
   "source": [
    "df_all.query(\"doi=='10.1103/PhysRevD.86.101501'\")"
   ]
  },
  {
   "cell_type": "markdown",
   "metadata": {},
   "source": [
    "# File output"
   ]
  },
  {
   "cell_type": "code",
   "execution_count": 17,
   "metadata": {},
   "outputs": [],
   "source": [
    "os.system(\"rm processed_data/\" + dumpdate + \"/per_month/*\")\n",
    "pathlib.Path(\"processed_data/\" + dumpdate + \"/per_month/\").mkdir(parents=True, exist_ok=True)"
   ]
  },
  {
   "cell_type": "code",
   "execution_count": 18,
   "metadata": {},
   "outputs": [],
   "source": [
    "def get_month(s):\n",
    "    return s[0:7]"
   ]
  },
  {
   "cell_type": "code",
   "execution_count": 19,
   "metadata": {},
   "outputs": [],
   "source": [
    "df_all = df_all.drop(\"categories_list\", axis=1)\n",
    "df_all['created_ym'] = df_all.created.apply(get_month)"
   ]
  },
  {
   "cell_type": "code",
   "execution_count": 20,
   "metadata": {},
   "outputs": [],
   "source": [
    "def get_year(s):\n",
    "    return s[0:4]"
   ]
  },
  {
   "cell_type": "code",
   "execution_count": 21,
   "metadata": {},
   "outputs": [],
   "source": [
    "os.system(\"rm processed_data/\" + dumpdate + \"/per_year/*\")\n",
    "pathlib.Path(\"processed_data/\" + dumpdate + \"/per_year/\").mkdir(parents=True, exist_ok=True) "
   ]
  },
  {
   "cell_type": "code",
   "execution_count": 22,
   "metadata": {
    "scrolled": true
   },
   "outputs": [
    {
     "name": "stdout",
     "output_type": "stream",
     "text": [
      "1993 6728 2.06\n",
      "1994 10085 3.24\n",
      "1995 12994 4.31\n",
      "1996 15875 5.3\n",
      "1997 19621 6.65\n",
      "1998 24174 8.31\n",
      "1999 27694 9.6\n",
      "2000 30672 10.75\n",
      "2001 33128 11.77\n",
      "2002 36103 12.8\n",
      "2003 39389 14.17\n",
      "2004 43721 15.88\n",
      "2005 46867 17.2\n",
      "2006 50304 18.71\n",
      "2007 55768 20.7\n",
      "2008 58796 22.23\n",
      "2009 64077 24.68\n",
      "2010 70286 27.93\n",
      "2011 76605 30.93\n",
      "2012 84389 34.81\n",
      "2013 92866 38.72\n",
      "2014 97598 41.66\n",
      "2015 105128 45.39\n",
      "2016 113436 49.89\n",
      "2017 123781 55.1\n",
      "2018 140135 62.66\n"
     ]
    }
   ],
   "source": [
    "df_all['created_year'] = df_all.created.apply(get_year)\n",
    "\n",
    "for year in range(1993,2019):\n",
    "\n",
    "\n",
    "    query = \"created_year == '\" + str(year) + \"'\"\n",
    "\n",
    "    yearly_df = df_all.query(query)\n",
    "    \n",
    "    yearly_df = yearly_df.sort_values(by='created')\n",
    "    \n",
    "    filename = \"processed_data/\" + dumpdate + \"/per_year/\" + str(year) + \".tsv\"\n",
    "\n",
    "    yearly_df.drop(\"created_year\", axis=1).to_csv(filename, sep=\"\\t\")\n",
    "\n",
    "    zip_str = \"zip -9 \" + filename + \".zip \" + filename\n",
    "    os.system(zip_str)\n",
    "\n",
    "    zip_size = round(os.path.getsize(filename + \".zip\")/1024/1024,2)\n",
    "\n",
    "    print(str(year), len(yearly_df), zip_size)\n"
   ]
  },
  {
   "cell_type": "code",
   "execution_count": null,
   "metadata": {},
   "outputs": [],
   "source": []
  },
  {
   "cell_type": "code",
   "execution_count": 23,
   "metadata": {},
   "outputs": [
    {
     "data": {
      "text/plain": [
       "256"
      ]
     },
     "execution_count": 23,
     "metadata": {},
     "output_type": "execute_result"
    }
   ],
   "source": [
    "os.system(\"rm processed_data/\" + dumpdate + \"/arxiv_oaiaf_catkey.h5\")"
   ]
  },
  {
   "cell_type": "code",
   "execution_count": 24,
   "metadata": {},
   "outputs": [
    {
     "data": {
      "text/plain": [
       "0"
      ]
     },
     "execution_count": 24,
     "metadata": {},
     "output_type": "execute_result"
    }
   ],
   "source": [
    "os.system(\"rm processed_data/\" + dumpdate + \"/per_category/*\")"
   ]
  },
  {
   "cell_type": "code",
   "execution_count": 25,
   "metadata": {},
   "outputs": [],
   "source": [
    "pathlib.Path(\"processed_data/\" + dumpdate + \"/per_category/\").mkdir(parents=True, exist_ok=True) "
   ]
  },
  {
   "cell_type": "code",
   "execution_count": 26,
   "metadata": {},
   "outputs": [
    {
     "name": "stdout",
     "output_type": "stream",
     "text": [
      "processed_data/20190101/per_category/acc-phys 0.01 M\n",
      "processed_data/20190101/per_category/adap-org 0.15 M\n",
      "processed_data/20190101/per_category/alg-geom 0.27 M\n",
      "processed_data/20190101/per_category/ao-sci 0.01 M\n",
      "processed_data/20190101/per_category/astro-ph 74.36 M\n",
      "processed_data/20190101/per_category/astro-ph.CO 14.49 M\n",
      "processed_data/20190101/per_category/astro-ph.EP 5.47 M\n",
      "processed_data/20190101/per_category/astro-ph.GA 12.25 M\n",
      "processed_data/20190101/per_category/astro-ph.HE 10.06 M\n",
      "processed_data/20190101/per_category/astro-ph.IM 5.12 M\n",
      "processed_data/20190101/per_category/astro-ph.SR 12.45 M\n",
      "processed_data/20190101/per_category/atom-ph 3.38 M\n",
      "processed_data/20190101/per_category/bayes-an 0.01 M\n",
      "processed_data/20190101/per_category/chao-dyn 0.55 M\n",
      "processed_data/20190101/per_category/chem-ph 3.33 M\n",
      "processed_data/20190101/per_category/cmp-lg 0.21 M\n",
      "processed_data/20190101/per_category/comp-gas 0.06 M\n",
      "processed_data/20190101/per_category/cond-mat 59.01 M\n",
      "processed_data/20190101/per_category/cond-mat.dis-nn 4.0 M\n",
      "processed_data/20190101/per_category/cond-mat.mes-hall 13.58 M\n",
      "processed_data/20190101/per_category/cond-mat.mtrl-sci 14.05 M\n",
      "processed_data/20190101/per_category/cond-mat.other 3.03 M\n",
      "processed_data/20190101/per_category/cond-mat.quant-gas 3.07 M\n",
      "processed_data/20190101/per_category/cond-mat.soft 6.71 M\n",
      "processed_data/20190101/per_category/cond-mat.stat-mech 12.0 M\n",
      "processed_data/20190101/per_category/cond-mat.str-el 11.58 M\n",
      "processed_data/20190101/per_category/cond-mat.supr-con 7.5 M\n",
      "processed_data/20190101/per_category/cs.AI 4.72 M\n",
      "processed_data/20190101/per_category/cs.AR 0.4 M\n",
      "processed_data/20190101/per_category/cs.CC 1.72 M\n",
      "processed_data/20190101/per_category/cs.CE 0.95 M\n",
      "processed_data/20190101/per_category/cs.CG 0.99 M\n",
      "processed_data/20190101/per_category/cs.CL 2.98 M\n",
      "processed_data/20190101/per_category/cs.CR 2.86 M\n",
      "processed_data/20190101/per_category/cs.CV 6.8 M\n",
      "processed_data/20190101/per_category/cs.CY 1.79 M\n",
      "processed_data/20190101/per_category/cs.DB 1.25 M\n",
      "processed_data/20190101/per_category/cs.DC 2.65 M\n",
      "processed_data/20190101/per_category/cs.DL 0.82 M\n",
      "processed_data/20190101/per_category/cs.DM 1.87 M\n",
      "processed_data/20190101/per_category/cs.DS 3.5 M\n",
      "processed_data/20190101/per_category/cs.ET 0.45 M\n",
      "processed_data/20190101/per_category/cs.FL 0.59 M\n",
      "processed_data/20190101/per_category/cs.GL 0.05 M\n",
      "processed_data/20190101/per_category/cs.GR 0.44 M\n",
      "processed_data/20190101/per_category/cs.GT 1.51 M\n",
      "processed_data/20190101/per_category/cs.HC 1.15 M\n",
      "processed_data/20190101/per_category/cs.IR 1.56 M\n",
      "processed_data/20190101/per_category/cs.IT 6.81 M\n",
      "processed_data/20190101/per_category/cs.LG 7.63 M\n",
      "processed_data/20190101/per_category/cs.LO 2.11 M\n",
      "processed_data/20190101/per_category/cs.MA 0.7 M\n",
      "processed_data/20190101/per_category/cs.MM 0.62 M\n",
      "processed_data/20190101/per_category/cs.MS 0.36 M\n",
      "processed_data/20190101/per_category/cs.NA 0.71 M\n",
      "processed_data/20190101/per_category/cs.NE 1.68 M\n",
      "processed_data/20190101/per_category/cs.NI 3.26 M\n",
      "processed_data/20190101/per_category/cs.OH 0.53 M\n",
      "processed_data/20190101/per_category/cs.OS 0.15 M\n",
      "processed_data/20190101/per_category/cs.PF 0.55 M\n",
      "processed_data/20190101/per_category/cs.PL 1.04 M\n",
      "processed_data/20190101/per_category/cs.RO 1.62 M\n",
      "processed_data/20190101/per_category/cs.SC 0.35 M\n",
      "processed_data/20190101/per_category/cs.SD 0.6 M\n",
      "processed_data/20190101/per_category/cs.SE 1.58 M\n",
      "processed_data/20190101/per_category/cs.SI 2.87 M\n",
      "processed_data/20190101/per_category/cs.SY 2.07 M\n",
      "processed_data/20190101/per_category/dg-ga 0.14 M\n",
      "processed_data/20190101/per_category/econ.EM 0.18 M\n",
      "processed_data/20190101/per_category/econ.GN 0.06 M\n",
      "processed_data/20190101/per_category/econ.TH 0.04 M\n",
      "processed_data/20190101/per_category/eess.AS 0.34 M\n",
      "processed_data/20190101/per_category/eess.IV 0.24 M\n",
      "processed_data/20190101/per_category/eess.SP 0.85 M\n",
      "processed_data/20190101/per_category/funct-an 0.09 M\n",
      "processed_data/20190101/per_category/gr-qc 15.84 M\n",
      "processed_data/20190101/per_category/hep-ex 8.36 M\n",
      "processed_data/20190101/per_category/hep-lat 4.19 M\n",
      "processed_data/20190101/per_category/hep-ph 27.51 M\n",
      "processed_data/20190101/per_category/hep-th 24.47 M\n",
      "processed_data/20190101/per_category/math-ph 11.0 M\n",
      "processed_data/20190101/per_category/math.AC 1.46 M\n",
      "processed_data/20190101/per_category/math.AG 5.68 M\n",
      "processed_data/20190101/per_category/math.AP 5.87 M\n",
      "processed_data/20190101/per_category/math.AT 1.78 M\n",
      "processed_data/20190101/per_category/math.CA 2.52 M\n",
      "processed_data/20190101/per_category/math.CO 7.16 M\n",
      "processed_data/20190101/per_category/math.CT 0.95 M\n",
      "processed_data/20190101/per_category/math.CV 1.79 M\n",
      "processed_data/20190101/per_category/math.DG 4.62 M\n",
      "processed_data/20190101/per_category/math.DS 4.12 M\n",
      "processed_data/20190101/per_category/math.FA 3.24 M\n",
      "processed_data/20190101/per_category/math.GM 0.44 M\n",
      "processed_data/20190101/per_category/math.GN 0.58 M\n",
      "processed_data/20190101/per_category/math.GR 2.38 M\n",
      "processed_data/20190101/per_category/math.GT 2.59 M\n",
      "processed_data/20190101/per_category/math.HO 0.46 M\n",
      "processed_data/20190101/per_category/math.IT 6.81 M\n",
      "processed_data/20190101/per_category/math.KT 0.74 M\n",
      "processed_data/20190101/per_category/math.LO 1.45 M\n",
      "processed_data/20190101/per_category/math.MG 1.29 M\n",
      "processed_data/20190101/per_category/math.MP 11.0 M\n",
      "processed_data/20190101/per_category/math.NA 3.74 M\n",
      "processed_data/20190101/per_category/math.NT 4.09 M\n",
      "processed_data/20190101/per_category/math.OA 1.6 M\n",
      "processed_data/20190101/per_category/math.OC 4.55 M\n",
      "processed_data/20190101/per_category/math.PR 6.72 M\n",
      "processed_data/20190101/per_category/math.QA 2.54 M\n",
      "processed_data/20190101/per_category/math.RA 1.9 M\n",
      "processed_data/20190101/per_category/math.RT 2.89 M\n",
      "processed_data/20190101/per_category/math.SG 1.14 M\n",
      "processed_data/20190101/per_category/math.SP 1.18 M\n",
      "processed_data/20190101/per_category/math.ST 2.89 M\n",
      "processed_data/20190101/per_category/mtrl-th 0.07 M\n",
      "processed_data/20190101/per_category/nlin.AO 1.32 M\n",
      "processed_data/20190101/per_category/nlin.CD 2.82 M\n",
      "processed_data/20190101/per_category/nlin.CG 0.31 M\n",
      "processed_data/20190101/per_category/nlin.PS 1.58 M\n",
      "processed_data/20190101/per_category/nlin.SI 1.7 M\n",
      "processed_data/20190101/per_category/nucl-ex 4.46 M\n",
      "processed_data/20190101/per_category/nucl-th 8.93 M\n",
      "processed_data/20190101/per_category/patt-sol 0.16 M\n",
      "processed_data/20190101/per_category/physics.acc-ph 1.28 M\n",
      "processed_data/20190101/per_category/physics.ao-ph 1.06 M\n",
      "processed_data/20190101/per_category/physics.app-ph 1.03 M\n",
      "processed_data/20190101/per_category/physics.atm-clus 0.56 M\n",
      "processed_data/20190101/per_category/physics.atom-ph 3.36 M\n",
      "processed_data/20190101/per_category/physics.bio-ph 2.85 M\n",
      "processed_data/20190101/per_category/physics.chem-ph 3.3 M\n",
      "processed_data/20190101/per_category/physics.class-ph 1.45 M\n",
      "processed_data/20190101/per_category/physics.comp-ph 3.11 M\n",
      "processed_data/20190101/per_category/physics.data-an 1.94 M\n",
      "processed_data/20190101/per_category/physics.ed-ph 0.63 M\n",
      "processed_data/20190101/per_category/physics.flu-dyn 3.83 M\n",
      "processed_data/20190101/per_category/physics.gen-ph 2.01 M\n",
      "processed_data/20190101/per_category/physics.geo-ph 1.24 M\n",
      "processed_data/20190101/per_category/physics.hist-ph 0.83 M\n",
      "processed_data/20190101/per_category/physics.ins-det 3.53 M\n",
      "processed_data/20190101/per_category/physics.med-ph 0.97 M\n",
      "processed_data/20190101/per_category/physics.optics 5.87 M\n",
      "processed_data/20190101/per_category/physics.plasm-ph 2.55 M\n",
      "processed_data/20190101/per_category/physics.pop-ph 0.47 M\n",
      "processed_data/20190101/per_category/physics.soc-ph 3.9 M\n",
      "processed_data/20190101/per_category/physics.space-ph 1.12 M\n",
      "processed_data/20190101/per_category/plasm-ph 2.55 M\n",
      "processed_data/20190101/per_category/q-alg 0.29 M\n",
      "processed_data/20190101/per_category/q-bio 7.93 M\n",
      "processed_data/20190101/per_category/q-bio.BM 1.11 M\n",
      "processed_data/20190101/per_category/q-bio.CB 0.5 M\n",
      "processed_data/20190101/per_category/q-bio.GN 0.72 M\n",
      "processed_data/20190101/per_category/q-bio.MN 0.87 M\n",
      "processed_data/20190101/per_category/q-bio.NC 1.59 M\n",
      "processed_data/20190101/per_category/q-bio.OT 0.28 M\n",
      "processed_data/20190101/per_category/q-bio.PE 2.05 M\n",
      "processed_data/20190101/per_category/q-bio.QM 1.72 M\n",
      "processed_data/20190101/per_category/q-bio.SC 0.43 M\n",
      "processed_data/20190101/per_category/q-bio.TO 0.46 M\n",
      "processed_data/20190101/per_category/q-fin.CP 0.3 M\n",
      "processed_data/20190101/per_category/q-fin.EC 0.24 M\n",
      "processed_data/20190101/per_category/q-fin.GN 0.53 M\n",
      "processed_data/20190101/per_category/q-fin.MF 0.24 M\n",
      "processed_data/20190101/per_category/q-fin.PM 0.25 M\n",
      "processed_data/20190101/per_category/q-fin.PR 0.34 M\n",
      "processed_data/20190101/per_category/q-fin.RM 0.32 M\n",
      "processed_data/20190101/per_category/q-fin.ST 0.57 M\n",
      "processed_data/20190101/per_category/q-fin.TR 0.27 M\n",
      "processed_data/20190101/per_category/quant-ph 19.1 M\n",
      "processed_data/20190101/per_category/solv-int 0.26 M\n",
      "processed_data/20190101/per_category/stat.AP 2.36 M\n",
      "processed_data/20190101/per_category/stat.CO 1.05 M\n",
      "processed_data/20190101/per_category/stat.ME 2.76 M\n",
      "processed_data/20190101/per_category/stat.ML 5.91 M\n",
      "processed_data/20190101/per_category/stat.OT 0.18 M\n",
      "processed_data/20190101/per_category/stat.TH 2.89 M\n",
      "processed_data/20190101/per_category/supr-con 7.5 M\n"
     ]
    }
   ],
   "source": [
    "for cat in categories:\n",
    "    fn = \"processed_data/\" + dumpdate + \"/per_category/\" + cat\n",
    "    df_dict[cat].to_csv(fn+\".tsv\", sep=\"\\t\", mode=\"w\")\n",
    "    #df_dict_generic[cat].to_hdf(fn+\".h5\", key=\"df\", mode=\"w\")\n",
    "    \n",
    "    zip_str = \"zip -9 \" + fn+\".tsv.zip \" + fn + \".tsv\"\n",
    "    bzip2_str = \"bzip2 -kz9 \" + fn + \".tsv\"\n",
    "    xz_str = \"xz -kz9 \" + fn + \".tsv\"\n",
    "\n",
    "        \n",
    "    #os.system(zip_str)\n",
    "    #os.system(bzip2_str)\n",
    "    os.system(xz_str)\n",
    "    \n",
    "    xz_size = round(os.path.getsize(fn+\".tsv.xz\")/1024/1024,2)\n",
    "    \n",
    "    print(fn, xz_size, \"M\")\n",
    "    \n",
    "    # for h5 export\n",
    "    \n",
    "    # cat_key = cat.replace(\".\",\"_\")\n",
    "    # cat_key = cat_key.replace(\"-\",\"_\")\n",
    "    # df_dict[cat].to_hdf(\"processed_data/\" + dumpdate + \"/arxiv_oaiaf_catkey.h5\",\n",
    "    #                            key=cat_key, mode=\"a\")\n",
    "    "
   ]
  },
  {
   "cell_type": "code",
   "execution_count": 27,
   "metadata": {},
   "outputs": [
    {
     "data": {
      "text/plain": [
       "'Total runtime: 62 minutes, 40 seconds'"
      ]
     },
     "execution_count": 27,
     "metadata": {},
     "output_type": "execute_result"
    }
   ],
   "source": [
    "print(time_elapsed(start))"
   ]
  }
 ],
 "metadata": {
  "kernelspec": {
   "display_name": "Python 3",
   "language": "python",
   "name": "python3"
  },
  "language_info": {
   "codemirror_mode": {
    "name": "ipython",
    "version": 3
   },
   "file_extension": ".py",
   "mimetype": "text/x-python",
   "name": "python",
   "nbconvert_exporter": "python",
   "pygments_lexer": "ipython3",
   "version": "3.7.3"
  }
 },
 "nbformat": 4,
 "nbformat_minor": 2
}
