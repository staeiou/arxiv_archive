{
 "cells": [
  {
   "cell_type": "code",
   "execution_count": 2,
   "metadata": {},
   "outputs": [],
   "source": [
    "import pandas as pd\n",
    "import numpy as np\n",
    "import seaborn as sns\n",
    "import glob\n",
    "import datetime\n",
    "import lxml.etree as ET\n",
    "from xml.dom import minidom\n",
    "import datetime\n",
    "import pathlib\n",
    "\n",
    "%matplotlib inline"
   ]
  },
  {
   "cell_type": "code",
   "execution_count": 2,
   "metadata": {},
   "outputs": [],
   "source": [
    "date = \"20191219\""
   ]
  },
  {
   "cell_type": "code",
   "execution_count": 3,
   "metadata": {},
   "outputs": [],
   "source": [
    "datadir = \"/home/staeiou/data/arxiv/oai-af/\""
   ]
  },
  {
   "cell_type": "code",
   "execution_count": 4,
   "metadata": {},
   "outputs": [],
   "source": [
    "start = datetime.datetime.now()\n"
   ]
  },
  {
   "cell_type": "code",
   "execution_count": 5,
   "metadata": {},
   "outputs": [],
   "source": [
    "def time_elapsed(start):\n",
    "    end = datetime.datetime.now()\n",
    "\n",
    "    time_to_run = end - start\n",
    "    minutes = int(time_to_run.seconds/60)\n",
    "    seconds = time_to_run.seconds % 60\n",
    "    return \"Total runtime: \" + str(minutes) + \" minutes, \" + str(seconds) + \" seconds\""
   ]
  },
  {
   "cell_type": "markdown",
   "metadata": {},
   "source": [
    "## Parse all raw XML files"
   ]
  },
  {
   "cell_type": "code",
   "execution_count": 6,
   "metadata": {},
   "outputs": [],
   "source": [
    "fn = glob.glob(datadir + \"*\")"
   ]
  },
  {
   "cell_type": "code",
   "execution_count": 7,
   "metadata": {},
   "outputs": [
    {
     "data": {
      "text/plain": [
       "1484151"
      ]
     },
     "execution_count": 7,
     "metadata": {},
     "output_type": "execute_result"
    }
   ],
   "source": [
    "len(fn)"
   ]
  },
  {
   "cell_type": "code",
   "execution_count": 8,
   "metadata": {},
   "outputs": [
    {
     "name": "stdout",
     "output_type": "stream",
     "text": [
      "<?xml version=\"1.0\" ?>\n",
      "<arXiv xmlns=\"http://arxiv.org/OAI/arXiv/\" xmlns:xsi=\"http://www.w3.org/2001/XMLSchema-instance\" xsi:schemaLocation=\"http://arxiv.org/OAI/arXiv/ http://arxiv.org/OAI/arXiv.xsd\">\n",
      "\t\n",
      " \n",
      "\t<id>1503.04358</id>\n",
      "\t<created>2015-03-14</created>\n",
      "\t<authors>\n",
      "\t\t<author>\n",
      "\t\t\t<keyname>Koopman</keyname>\n",
      "\t\t\t<forenames>Rob</forenames>\n",
      "\t\t</author>\n",
      "\t\t<author>\n",
      "\t\t\t<keyname>Wang</keyname>\n",
      "\t\t\t<forenames>Shenghui</forenames>\n",
      "\t\t</author>\n",
      "\t\t<author>\n",
      "\t\t\t<keyname>Scharnhorst</keyname>\n",
      "\t\t\t<forenames>Andrea</forenames>\n",
      "\t\t</author>\n",
      "\t\t<author>\n",
      "\t\t\t<keyname>Englebienne</keyname>\n",
      "\t\t\t<forenames>Gwenn</forenames>\n",
      "\t\t</author>\n",
      "\t</authors>\n",
      "\t<title>Ariadne's Thread - Interactive Navigation in a World of Networked\n",
      "  Information</title>\n",
      "\t<categories>cs.DL</categories>\n",
      "\t<comments>CHI'15 Extended Abstracts, April 18-23, 2015, Seoul, Republic of\n",
      "  Korea. ACM 978-1-4503-3146-3/15/04</comments>\n",
      "\t<acm-class>H.5.2; H.3.3</acm-class>\n",
      "\t<doi>10.1145/2702613.2732781</doi>\n",
      "\t<license>http://arxiv.org/licenses/nonexclusive-distrib/1.0/</license>\n",
      "\t<abstract>  This work-in-progress paper introduces an interface for the interactive\n",
      "visual exploration of the context of queries using the ArticleFirst database, a\n",
      "product of OCLC. We describe a workflow which allows the user to browse live\n",
      "entities associated with 65 million articles. In the on-line interface, each\n",
      "query leads to a specific network representation of the most prevailing\n",
      "entities: topics (words), authors, journals and Dewey decimal classes linked to\n",
      "the set of terms in the query. This network represents the context of a query.\n",
      "Each of the network nodes is clickable: by clicking through, a user traverses a\n",
      "large space of articles along dimensions of authors, journals, Dewey classes\n",
      "and words simultaneously. We present different use cases of such an interface.\n",
      "This paper provides a link between the quest for maps of science and on-going\n",
      "debates in HCI about the use of interactive information visualisation to\n",
      "empower users in their search.\n",
      "</abstract>\n",
      "</arXiv>\n",
      "\n"
     ]
    }
   ],
   "source": [
    "doc = minidom.parse(datadir + \"oai:arXiv.org:1503.04358.arXiv.xml\")\n",
    "print(doc.toprettyxml())"
   ]
  },
  {
   "cell_type": "code",
   "execution_count": 9,
   "metadata": {},
   "outputs": [],
   "source": [
    "def get_author_text(doc):\n",
    "    \"\"\"\n",
    "    Inputs a minidom doc object, outputs a tuple of (string formatted list of authors, python list of authors).\n",
    "    \n",
    "    Helper function for doc_to_dict()\n",
    "    \n",
    "    \"\"\"\n",
    "    authorlist = []\n",
    "    authortext = \"\"\n",
    "    for author in doc.getElementsByTagName(\"authors\")[0].childNodes:\n",
    "        keyname = author.getElementsByTagName(\"keyname\")[0].firstChild.data\n",
    "        try:\n",
    "            forenames = author.getElementsByTagName(\"forenames\")[0].firstChild.data\n",
    "        except:\n",
    "            forenames = \"\"\n",
    "        authortext += forenames + \" \" + keyname + \", \"\n",
    "        authorlist.append(forenames + \" \" + keyname)\n",
    "    return authortext[:-2].replace(\"  \", \" \"), authorlist"
   ]
  },
  {
   "cell_type": "code",
   "execution_count": 10,
   "metadata": {},
   "outputs": [
    {
     "data": {
      "text/plain": [
       "('Rob Koopman, Shenghui Wang, Andrea Scharnhorst, Gwenn Englebienne',\n",
       " ['Rob Koopman', 'Shenghui Wang', 'Andrea Scharnhorst', 'Gwenn Englebienne'])"
      ]
     },
     "execution_count": 10,
     "metadata": {},
     "output_type": "execute_result"
    }
   ],
   "source": [
    "get_author_text(doc)"
   ]
  },
  {
   "cell_type": "code",
   "execution_count": 11,
   "metadata": {},
   "outputs": [],
   "source": [
    "def doc_to_dict(doc):\n",
    "    \"\"\"\n",
    "    Inputs a minidom object, returns a dictionary of all metadata\n",
    "    \n",
    "    \"\"\"\n",
    "    title = doc.getElementsByTagName(\"title\")[0].firstChild.data\n",
    "    arxivid = doc.getElementsByTagName(\"id\")[0].firstChild.data\n",
    "    created = doc.getElementsByTagName(\"created\")[0].firstChild.data\n",
    "    categories = doc.getElementsByTagName(\"categories\")[0].firstChild.data\n",
    "    abstract = doc.getElementsByTagName(\"abstract\")[0].firstChild.data\n",
    "    primary_cat = categories.split(\" \")[0]\n",
    "    \n",
    "    author_text, author_list = get_author_text(doc)\n",
    "    \n",
    "    num_authors = len(author_list)\n",
    "    \n",
    "    num_categories = len(categories.split(\" \"))\n",
    "    \n",
    "    try:\n",
    "        comments = doc.getElementsByTagName(\"comments\")[0].firstChild.data\n",
    "    except IndexError:\n",
    "        comments = np.nan\n",
    "        \n",
    "    try:\n",
    "        acm_class = doc.getElementsByTagName(\"acm-class\")[0].firstChild.data\n",
    "    except IndexError:\n",
    "        acm_class = np.nan\n",
    "        \n",
    "    try:\n",
    "        updated = doc.getElementsByTagName(\"updated\")[0].firstChild.data\n",
    "    except IndexError:\n",
    "        updated = np.nan\n",
    "        \n",
    "    try:\n",
    "        doi = doc.getElementsByTagName(\"doi\")[0].firstChild.data\n",
    "    except IndexError:\n",
    "        doi = np.nan         \n",
    "        \n",
    "    row = {\n",
    "           'title':title,\n",
    "           'updated':updated,\n",
    "           'arxiv_id':arxivid,\n",
    "           'created':created,\n",
    "           'categories':categories.replace(\" \" , \",\"),\n",
    "           'num_categories':num_categories,\n",
    "           'primary_cat':primary_cat,\n",
    "           'abstract':abstract,\n",
    "           'doi':doi,\n",
    "           'acm_class':acm_class,\n",
    "           'comments':comments,\n",
    "           'author_text':author_text,\n",
    "           'num_authors':num_authors\n",
    "    }\n",
    "    \n",
    "    return row"
   ]
  },
  {
   "cell_type": "markdown",
   "metadata": {},
   "source": [
    "### Iterate through all XML files and parse into list of dictionaries"
   ]
  },
  {
   "cell_type": "code",
   "execution_count": 12,
   "metadata": {},
   "outputs": [
    {
     "name": "stdout",
     "output_type": "stream",
     "text": [
      "100000 Total runtime: 1 minutes, 38 seconds\n",
      "200000 Total runtime: 3 minutes, 1 seconds\n",
      "300000 Total runtime: 4 minutes, 24 seconds\n",
      "400000 Total runtime: 5 minutes, 48 seconds\n",
      "500000 Total runtime: 7 minutes, 11 seconds\n",
      "600000 Total runtime: 8 minutes, 35 seconds\n",
      "700000 Total runtime: 9 minutes, 58 seconds\n",
      "800000 Total runtime: 11 minutes, 23 seconds\n",
      "900000 Total runtime: 12 minutes, 47 seconds\n",
      "1000000 Total runtime: 14 minutes, 11 seconds\n",
      "1100000 Total runtime: 15 minutes, 36 seconds\n",
      "1200000 Total runtime: 17 minutes, 1 seconds\n",
      "1300000 Total runtime: 18 minutes, 25 seconds\n",
      "1400000 Total runtime: 19 minutes, 50 seconds\n"
     ]
    }
   ],
   "source": [
    "df_list = []\n",
    "dates = []\n",
    "for file in fn:\n",
    "\n",
    "    try:\n",
    "        row = doc_to_dict(minidom.parse(file))\n",
    "        \n",
    "\n",
    "        df_list.append(row)\n",
    "\n",
    "        if len(df_list) % 100000 is 0:\n",
    "            print(len(df_list), time_elapsed(start))\n",
    "    \n",
    "    except IsADirectoryError:\n",
    "        pass\n",
    "    "
   ]
  },
  {
   "cell_type": "markdown",
   "metadata": {},
   "source": [
    "### Convert list of dicts to dataframe"
   ]
  },
  {
   "cell_type": "code",
   "execution_count": 13,
   "metadata": {},
   "outputs": [],
   "source": [
    "df = pd.DataFrame(df_list)"
   ]
  },
  {
   "cell_type": "markdown",
   "metadata": {},
   "source": [
    "### Remove all rows after 2019-12-01"
   ]
  },
  {
   "cell_type": "code",
   "execution_count": 14,
   "metadata": {},
   "outputs": [],
   "source": [
    "df = df.query(\"created < '2019-12-01'\")"
   ]
  },
  {
   "cell_type": "code",
   "execution_count": 15,
   "metadata": {},
   "outputs": [
    {
     "data": {
      "text/plain": [
       "1483806"
      ]
     },
     "execution_count": 15,
     "metadata": {},
     "output_type": "execute_result"
    }
   ],
   "source": [
    "len(df)"
   ]
  },
  {
   "cell_type": "markdown",
   "metadata": {},
   "source": [
    "## Spot checking"
   ]
  },
  {
   "cell_type": "code",
   "execution_count": 16,
   "metadata": {},
   "outputs": [
    {
     "data": {
      "text/plain": [
       "1483806"
      ]
     },
     "execution_count": 16,
     "metadata": {},
     "output_type": "execute_result"
    }
   ],
   "source": [
    "len(df)"
   ]
  },
  {
   "cell_type": "code",
   "execution_count": 17,
   "metadata": {},
   "outputs": [
    {
     "data": {
      "text/plain": [
       "1483806"
      ]
     },
     "execution_count": 17,
     "metadata": {},
     "output_type": "execute_result"
    }
   ],
   "source": [
    "df = df.drop_duplicates()\n",
    "len(df)"
   ]
  },
  {
   "cell_type": "code",
   "execution_count": 18,
   "metadata": {},
   "outputs": [
    {
     "name": "stdout",
     "output_type": "stream",
     "text": [
      "1448312     CDF Collaboration, D0 Collaboration, TEVNPHWG\n",
      "Name: author_text, dtype: object\n"
     ]
    }
   ],
   "source": [
    "print(df.query(\"arxiv_id == '1207.2757'\").author_text)"
   ]
  },
  {
   "cell_type": "code",
   "execution_count": 19,
   "metadata": {},
   "outputs": [
    {
     "data": {
      "text/html": [
       "<div>\n",
       "<style scoped>\n",
       "    .dataframe tbody tr th:only-of-type {\n",
       "        vertical-align: middle;\n",
       "    }\n",
       "\n",
       "    .dataframe tbody tr th {\n",
       "        vertical-align: top;\n",
       "    }\n",
       "\n",
       "    .dataframe thead th {\n",
       "        text-align: right;\n",
       "    }\n",
       "</style>\n",
       "<table border=\"1\" class=\"dataframe\">\n",
       "  <thead>\n",
       "    <tr style=\"text-align: right;\">\n",
       "      <th></th>\n",
       "      <th>abstract</th>\n",
       "      <th>acm_class</th>\n",
       "      <th>arxiv_id</th>\n",
       "      <th>author_text</th>\n",
       "      <th>categories</th>\n",
       "      <th>comments</th>\n",
       "      <th>created</th>\n",
       "      <th>doi</th>\n",
       "      <th>num_authors</th>\n",
       "      <th>num_categories</th>\n",
       "      <th>primary_cat</th>\n",
       "      <th>title</th>\n",
       "      <th>updated</th>\n",
       "    </tr>\n",
       "  </thead>\n",
       "  <tbody>\n",
       "    <tr>\n",
       "      <th>153362</th>\n",
       "      <td>Automated software agents --- or bots --- ha...</td>\n",
       "      <td>NaN</td>\n",
       "      <td>1810.09590</td>\n",
       "      <td>R. Stuart Geiger</td>\n",
       "      <td>cs.CY,cs.AI,cs.HC,cs.SI</td>\n",
       "      <td>Originally published in 2011</td>\n",
       "      <td>2018-10-22</td>\n",
       "      <td>NaN</td>\n",
       "      <td>1</td>\n",
       "      <td>4</td>\n",
       "      <td>cs.CY</td>\n",
       "      <td>The Lives of Bots</td>\n",
       "      <td>NaN</td>\n",
       "    </tr>\n",
       "    <tr>\n",
       "      <th>1194979</th>\n",
       "      <td>Scholars and practitioners across domains ar...</td>\n",
       "      <td>NaN</td>\n",
       "      <td>1709.09093</td>\n",
       "      <td>R. Stuart Geiger</td>\n",
       "      <td>cs.CY,cs.AI,cs.HC</td>\n",
       "      <td>14 pages, typo fixed in v2</td>\n",
       "      <td>2017-09-26</td>\n",
       "      <td>10.1177/2053951717730735</td>\n",
       "      <td>1</td>\n",
       "      <td>3</td>\n",
       "      <td>cs.CY</td>\n",
       "      <td>Beyond opening up the black box: Investigating...</td>\n",
       "      <td>2017-10-01</td>\n",
       "    </tr>\n",
       "    <tr>\n",
       "      <th>1221231</th>\n",
       "      <td>This report is a high-level summary analysis...</td>\n",
       "      <td>NaN</td>\n",
       "      <td>1706.02777</td>\n",
       "      <td>R. Stuart Geiger</td>\n",
       "      <td>cs.CY,cs.SE,cs.SI</td>\n",
       "      <td>58 pages</td>\n",
       "      <td>2017-06-08</td>\n",
       "      <td>10.17605/OSF.IO/ENRQ5</td>\n",
       "      <td>1</td>\n",
       "      <td>3</td>\n",
       "      <td>cs.CY</td>\n",
       "      <td>Summary Analysis of the 2017 GitHub Open Sourc...</td>\n",
       "      <td>NaN</td>\n",
       "    </tr>\n",
       "  </tbody>\n",
       "</table>\n",
       "</div>"
      ],
      "text/plain": [
       "                                                  abstract acm_class  \\\n",
       "153362     Automated software agents --- or bots --- ha...       NaN   \n",
       "1194979    Scholars and practitioners across domains ar...       NaN   \n",
       "1221231    This report is a high-level summary analysis...       NaN   \n",
       "\n",
       "           arxiv_id       author_text               categories  \\\n",
       "153362   1810.09590  R. Stuart Geiger  cs.CY,cs.AI,cs.HC,cs.SI   \n",
       "1194979  1709.09093  R. Stuart Geiger        cs.CY,cs.AI,cs.HC   \n",
       "1221231  1706.02777  R. Stuart Geiger        cs.CY,cs.SE,cs.SI   \n",
       "\n",
       "                             comments     created                       doi  \\\n",
       "153362   Originally published in 2011  2018-10-22                       NaN   \n",
       "1194979    14 pages, typo fixed in v2  2017-09-26  10.1177/2053951717730735   \n",
       "1221231                      58 pages  2017-06-08     10.17605/OSF.IO/ENRQ5   \n",
       "\n",
       "         num_authors  num_categories primary_cat  \\\n",
       "153362             1               4       cs.CY   \n",
       "1194979            1               3       cs.CY   \n",
       "1221231            1               3       cs.CY   \n",
       "\n",
       "                                                     title     updated  \n",
       "153362                                   The Lives of Bots         NaN  \n",
       "1194979  Beyond opening up the black box: Investigating...  2017-10-01  \n",
       "1221231  Summary Analysis of the 2017 GitHub Open Sourc...         NaN  "
      ]
     },
     "execution_count": 19,
     "metadata": {},
     "output_type": "execute_result"
    }
   ],
   "source": [
    "df.query(\"author_text == 'R. Stuart Geiger'\")"
   ]
  },
  {
   "cell_type": "code",
   "execution_count": 20,
   "metadata": {},
   "outputs": [
    {
     "data": {
      "text/html": [
       "<div>\n",
       "<style scoped>\n",
       "    .dataframe tbody tr th:only-of-type {\n",
       "        vertical-align: middle;\n",
       "    }\n",
       "\n",
       "    .dataframe tbody tr th {\n",
       "        vertical-align: top;\n",
       "    }\n",
       "\n",
       "    .dataframe thead th {\n",
       "        text-align: right;\n",
       "    }\n",
       "</style>\n",
       "<table border=\"1\" class=\"dataframe\">\n",
       "  <thead>\n",
       "    <tr style=\"text-align: right;\">\n",
       "      <th></th>\n",
       "      <th>abstract</th>\n",
       "      <th>acm_class</th>\n",
       "      <th>arxiv_id</th>\n",
       "      <th>author_text</th>\n",
       "      <th>categories</th>\n",
       "      <th>comments</th>\n",
       "      <th>created</th>\n",
       "      <th>doi</th>\n",
       "      <th>num_authors</th>\n",
       "      <th>num_categories</th>\n",
       "      <th>primary_cat</th>\n",
       "      <th>title</th>\n",
       "      <th>updated</th>\n",
       "    </tr>\n",
       "  </thead>\n",
       "  <tbody>\n",
       "    <tr>\n",
       "      <th>306862</th>\n",
       "      <td>This work-in-progress paper introduces an in...</td>\n",
       "      <td>H.5.2; H.3.3</td>\n",
       "      <td>1503.04358</td>\n",
       "      <td>Rob Koopman, Shenghui Wang, Andrea Scharnhorst...</td>\n",
       "      <td>cs.DL</td>\n",
       "      <td>CHI'15 Extended Abstracts, April 18-23, 2015, ...</td>\n",
       "      <td>2015-03-14</td>\n",
       "      <td>10.1145/2702613.2732781</td>\n",
       "      <td>4</td>\n",
       "      <td>1</td>\n",
       "      <td>cs.DL</td>\n",
       "      <td>Ariadne's Thread - Interactive Navigation in a...</td>\n",
       "      <td>NaN</td>\n",
       "    </tr>\n",
       "  </tbody>\n",
       "</table>\n",
       "</div>"
      ],
      "text/plain": [
       "                                                 abstract     acm_class  \\\n",
       "306862    This work-in-progress paper introduces an in...  H.5.2; H.3.3   \n",
       "\n",
       "          arxiv_id                                        author_text  \\\n",
       "306862  1503.04358  Rob Koopman, Shenghui Wang, Andrea Scharnhorst...   \n",
       "\n",
       "       categories                                           comments  \\\n",
       "306862      cs.DL  CHI'15 Extended Abstracts, April 18-23, 2015, ...   \n",
       "\n",
       "           created                      doi  num_authors  num_categories  \\\n",
       "306862  2015-03-14  10.1145/2702613.2732781            4               1   \n",
       "\n",
       "       primary_cat                                              title updated  \n",
       "306862       cs.DL  Ariadne's Thread - Interactive Navigation in a...     NaN  "
      ]
     },
     "execution_count": 20,
     "metadata": {},
     "output_type": "execute_result"
    }
   ],
   "source": [
    "df.query(\"doi == '10.1145/2702613.2732781'\")"
   ]
  },
  {
   "cell_type": "markdown",
   "metadata": {},
   "source": [
    "## Final export"
   ]
  },
  {
   "cell_type": "code",
   "execution_count": 21,
   "metadata": {},
   "outputs": [],
   "source": [
    "pathlib.Path(\"processed_data/\" + date).mkdir(parents=True, exist_ok=True) "
   ]
  },
  {
   "cell_type": "code",
   "execution_count": 22,
   "metadata": {},
   "outputs": [],
   "source": [
    "df.to_csv(\"processed_data/\" + date + \"/arxiv-oai-af.tsv\", sep=\"\\t\", index=False)"
   ]
  },
  {
   "cell_type": "code",
   "execution_count": 24,
   "metadata": {},
   "outputs": [],
   "source": [
    "# df.to_pickle(\"processed_data/\" + date + \"/arxiv-oai-af.pkl\")"
   ]
  },
  {
   "cell_type": "code",
   "execution_count": 25,
   "metadata": {},
   "outputs": [
    {
     "data": {
      "text/plain": [
       "'Total runtime: 21 minutes, 57 seconds'"
      ]
     },
     "execution_count": 25,
     "metadata": {},
     "output_type": "execute_result"
    }
   ],
   "source": [
    "time_elapsed(start)"
   ]
  }
 ],
 "metadata": {
  "kernelspec": {
   "display_name": "Python 3",
   "language": "python",
   "name": "python3"
  },
  "language_info": {
   "codemirror_mode": {
    "name": "ipython",
    "version": 3
   },
   "file_extension": ".py",
   "mimetype": "text/x-python",
   "name": "python",
   "nbconvert_exporter": "python",
   "pygments_lexer": "ipython3",
   "version": "3.7.3"
  }
 },
 "nbformat": 4,
 "nbformat_minor": 2
}
