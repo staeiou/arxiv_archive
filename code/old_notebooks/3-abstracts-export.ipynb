{
 "cells": [
  {
   "cell_type": "markdown",
   "metadata": {},
   "source": [
    "# Export .txt files for titles and abstracts\n",
    "\n",
    "## Library imports"
   ]
  },
  {
   "cell_type": "code",
   "execution_count": 1,
   "metadata": {},
   "outputs": [],
   "source": [
    "import pandas as pd\n",
    "import glob\n",
    "import datetime\n",
    "import matplotlib.pyplot as plt\n",
    "import matplotlib\n",
    "import os\n",
    "import zipfile\n",
    "%matplotlib inline"
   ]
  },
  {
   "cell_type": "code",
   "execution_count": 2,
   "metadata": {},
   "outputs": [],
   "source": [
    "def time_elapsed(start):\n",
    "    end = datetime.datetime.now()\n",
    "\n",
    "    time_to_run = end - start\n",
    "    minutes = int(time_to_run.seconds/60)\n",
    "    seconds = time_to_run.seconds % 60\n",
    "    return \"Total runtime: \" + str(minutes) + \" minutes, \" + str(seconds) + \" seconds\""
   ]
  },
  {
   "cell_type": "code",
   "execution_count": 3,
   "metadata": {},
   "outputs": [],
   "source": [
    "start = datetime.datetime.now()\n"
   ]
  },
  {
   "cell_type": "markdown",
   "metadata": {},
   "source": [
    "## Import data\n",
    "\n",
    "There are two different folders for different slices of ArXiV: `per_category` and `per_year`. The easiest for getting the full dataset is to combine `per_year`.\n",
    "\n",
    "Note: it is very important to specify the data types, particularly `arxiv_id`, as Pandas may assume they are floats based on some initial rows, when they are actually strings. "
   ]
  },
  {
   "cell_type": "code",
   "execution_count": 4,
   "metadata": {},
   "outputs": [],
   "source": [
    "dumpdate = \"20191219\""
   ]
  },
  {
   "cell_type": "code",
   "execution_count": 5,
   "metadata": {},
   "outputs": [],
   "source": [
    "datadir = \"processed_data/\" + dumpdate + \"/per_year/\""
   ]
  },
  {
   "cell_type": "code",
   "execution_count": 6,
   "metadata": {},
   "outputs": [],
   "source": [
    "files = glob.glob(datadir + \"*.tsv.zip\")\n",
    "len(files)\n",
    "files.sort()"
   ]
  },
  {
   "cell_type": "code",
   "execution_count": 7,
   "metadata": {},
   "outputs": [],
   "source": [
    "dtypes = {\n",
    "    \"abstract\": object,\n",
    "    \"acm_class\": object,\n",
    "    \"arxiv_id\": object,\n",
    "    \"author_text\": object,\n",
    "    \"categories\": object,\n",
    "    \"comments\": object,\n",
    "    \"created\": object,\n",
    "    \"doi\": object,\n",
    "    \"num_authors\": int,\n",
    "    \"num_categories\": int,\n",
    "    \"primary_cat\": object,\n",
    "    \"title\": object,\n",
    "    \"updated\": object,\n",
    "    \"created_ym\": object\n",
    "    }"
   ]
  },
  {
   "cell_type": "code",
   "execution_count": 8,
   "metadata": {},
   "outputs": [
    {
     "name": "stdout",
     "output_type": "stream",
     "text": [
      "processed_data/20190101/per_year/1993.tsv.zip\n",
      "Records this year:  6728 Cumulative total:  6728 \n",
      "\n",
      "processed_data/20190101/per_year/1994.tsv.zip\n",
      "Records this year:  10085 Cumulative total:  16813 \n",
      "\n",
      "processed_data/20190101/per_year/1995.tsv.zip\n",
      "Records this year:  12994 Cumulative total:  29807 \n",
      "\n",
      "processed_data/20190101/per_year/1996.tsv.zip\n",
      "Records this year:  15875 Cumulative total:  45682 \n",
      "\n",
      "processed_data/20190101/per_year/1997.tsv.zip\n",
      "Records this year:  19621 Cumulative total:  65303 \n",
      "\n",
      "processed_data/20190101/per_year/1998.tsv.zip\n",
      "Records this year:  24174 Cumulative total:  89477 \n",
      "\n",
      "processed_data/20190101/per_year/1999.tsv.zip\n",
      "Records this year:  27694 Cumulative total:  117171 \n",
      "\n",
      "processed_data/20190101/per_year/2000.tsv.zip\n",
      "Records this year:  30672 Cumulative total:  147843 \n",
      "\n",
      "processed_data/20190101/per_year/2001.tsv.zip\n",
      "Records this year:  33128 Cumulative total:  180971 \n",
      "\n",
      "processed_data/20190101/per_year/2002.tsv.zip\n",
      "Records this year:  36103 Cumulative total:  217074 \n",
      "\n",
      "processed_data/20190101/per_year/2003.tsv.zip\n",
      "Records this year:  39389 Cumulative total:  256463 \n",
      "\n",
      "processed_data/20190101/per_year/2004.tsv.zip\n",
      "Records this year:  43721 Cumulative total:  300184 \n",
      "\n",
      "processed_data/20190101/per_year/2005.tsv.zip\n",
      "Records this year:  46867 Cumulative total:  347051 \n",
      "\n",
      "processed_data/20190101/per_year/2006.tsv.zip\n",
      "Records this year:  50304 Cumulative total:  397355 \n",
      "\n",
      "processed_data/20190101/per_year/2007.tsv.zip\n",
      "Records this year:  55768 Cumulative total:  453123 \n",
      "\n",
      "processed_data/20190101/per_year/2008.tsv.zip\n",
      "Records this year:  58796 Cumulative total:  511919 \n",
      "\n",
      "processed_data/20190101/per_year/2009.tsv.zip\n",
      "Records this year:  64077 Cumulative total:  575996 \n",
      "\n",
      "processed_data/20190101/per_year/2010.tsv.zip\n",
      "Records this year:  70286 Cumulative total:  646282 \n",
      "\n",
      "processed_data/20190101/per_year/2011.tsv.zip\n",
      "Records this year:  76605 Cumulative total:  722887 \n",
      "\n",
      "processed_data/20190101/per_year/2012.tsv.zip\n",
      "Records this year:  84389 Cumulative total:  807276 \n",
      "\n",
      "processed_data/20190101/per_year/2013.tsv.zip\n",
      "Records this year:  92866 Cumulative total:  900142 \n",
      "\n",
      "processed_data/20190101/per_year/2014.tsv.zip\n",
      "Records this year:  97598 Cumulative total:  997740 \n",
      "\n",
      "processed_data/20190101/per_year/2015.tsv.zip\n",
      "Records this year:  105128 Cumulative total:  1102868 \n",
      "\n",
      "processed_data/20190101/per_year/2016.tsv.zip\n",
      "Records this year:  113436 Cumulative total:  1216304 \n",
      "\n",
      "processed_data/20190101/per_year/2017.tsv.zip\n",
      "Records this year:  123781 Cumulative total:  1340085 \n",
      "\n",
      "processed_data/20190101/per_year/2018.tsv.zip\n",
      "Records this year:  140135 Cumulative total:  1480220 \n",
      "\n"
     ]
    }
   ],
   "source": [
    "df_all = pd.DataFrame()\n",
    "\n",
    "for file in files:\n",
    "    print(file)\n",
    "    \n",
    "    yearly_df = pd.read_csv(file,\n",
    "                            sep=\"\\t\",\n",
    "                            index_col=0,\n",
    "                            compression='zip',\n",
    "                            dtype=dtypes,\n",
    "                            parse_dates=[\"created\",\"updated\"])\n",
    "            \n",
    "    df_all = df_all.append(yearly_df)\n",
    "    \n",
    "    print(\"Records this year: \", len(yearly_df), \"Cumulative total: \", len(df_all), \"\\n\")"
   ]
  },
  {
   "cell_type": "markdown",
   "metadata": {},
   "source": [
    "### Checking merged dataframe"
   ]
  },
  {
   "cell_type": "code",
   "execution_count": 9,
   "metadata": {},
   "outputs": [
    {
     "data": {
      "text/plain": [
       "1480220"
      ]
     },
     "execution_count": 9,
     "metadata": {},
     "output_type": "execute_result"
    }
   ],
   "source": [
    "len(df_all)"
   ]
  },
  {
   "cell_type": "code",
   "execution_count": 10,
   "metadata": {},
   "outputs": [
    {
     "data": {
      "text/plain": [
       "1480220"
      ]
     },
     "execution_count": 10,
     "metadata": {},
     "output_type": "execute_result"
    }
   ],
   "source": [
    "df_all = df_all.drop_duplicates()\n",
    "len(df_all)"
   ]
  },
  {
   "cell_type": "code",
   "execution_count": 11,
   "metadata": {},
   "outputs": [
    {
     "data": {
      "text/html": [
       "<div>\n",
       "<style scoped>\n",
       "    .dataframe tbody tr th:only-of-type {\n",
       "        vertical-align: middle;\n",
       "    }\n",
       "\n",
       "    .dataframe tbody tr th {\n",
       "        vertical-align: top;\n",
       "    }\n",
       "\n",
       "    .dataframe thead th {\n",
       "        text-align: right;\n",
       "    }\n",
       "</style>\n",
       "<table border=\"1\" class=\"dataframe\">\n",
       "  <thead>\n",
       "    <tr style=\"text-align: right;\">\n",
       "      <th></th>\n",
       "      <th>768429</th>\n",
       "      <th>123208</th>\n",
       "    </tr>\n",
       "  </thead>\n",
       "  <tbody>\n",
       "    <tr>\n",
       "      <th>abstract</th>\n",
       "      <td>LS I +61 303 is one of only a few high-mass X-...</td>\n",
       "      <td>We present a metamaterial-based random polariz...</td>\n",
       "    </tr>\n",
       "    <tr>\n",
       "      <th>acm_class</th>\n",
       "      <td>NaN</td>\n",
       "      <td>NaN</td>\n",
       "    </tr>\n",
       "    <tr>\n",
       "      <th>arxiv_id</th>\n",
       "      <td>0802.2363</td>\n",
       "      <td>1108.3954</td>\n",
       "    </tr>\n",
       "    <tr>\n",
       "      <th>author_text</th>\n",
       "      <td>V. A. Acciari, M. Beilicke, G. Blaylock, S. M....</td>\n",
       "      <td>Xiaohui Ling, Hailu Luo, Chujun Zhao, Shuangch...</td>\n",
       "    </tr>\n",
       "    <tr>\n",
       "      <th>categories</th>\n",
       "      <td>astro-ph</td>\n",
       "      <td>physics.optics</td>\n",
       "    </tr>\n",
       "    <tr>\n",
       "      <th>comments</th>\n",
       "      <td>accepted for publication in The Astrophysical ...</td>\n",
       "      <td>5 pages, 6 figures</td>\n",
       "    </tr>\n",
       "    <tr>\n",
       "      <th>created</th>\n",
       "      <td>2008-02-18 00:00:00</td>\n",
       "      <td>2011-08-19 00:00:00</td>\n",
       "    </tr>\n",
       "    <tr>\n",
       "      <th>doi</th>\n",
       "      <td>10.1086/587736</td>\n",
       "      <td>10.1364/AO.51.004749</td>\n",
       "    </tr>\n",
       "    <tr>\n",
       "      <th>num_authors</th>\n",
       "      <td>77</td>\n",
       "      <td>5</td>\n",
       "    </tr>\n",
       "    <tr>\n",
       "      <th>num_categories</th>\n",
       "      <td>1</td>\n",
       "      <td>1</td>\n",
       "    </tr>\n",
       "    <tr>\n",
       "      <th>primary_cat</th>\n",
       "      <td>astro-ph</td>\n",
       "      <td>physics.optics</td>\n",
       "    </tr>\n",
       "    <tr>\n",
       "      <th>title</th>\n",
       "      <td>VERITAS Observations of the gamma-Ray Binary L...</td>\n",
       "      <td>Metamaterial-based polarization control plate ...</td>\n",
       "    </tr>\n",
       "    <tr>\n",
       "      <th>updated</th>\n",
       "      <td>NaT</td>\n",
       "      <td>2012-07-07 00:00:00</td>\n",
       "    </tr>\n",
       "    <tr>\n",
       "      <th>created_ym</th>\n",
       "      <td>2008-02</td>\n",
       "      <td>2011-08</td>\n",
       "    </tr>\n",
       "  </tbody>\n",
       "</table>\n",
       "</div>"
      ],
      "text/plain": [
       "                                                           768429  \\\n",
       "abstract        LS I +61 303 is one of only a few high-mass X-...   \n",
       "acm_class                                                     NaN   \n",
       "arxiv_id                                                0802.2363   \n",
       "author_text     V. A. Acciari, M. Beilicke, G. Blaylock, S. M....   \n",
       "categories                                               astro-ph   \n",
       "comments        accepted for publication in The Astrophysical ...   \n",
       "created                                       2008-02-18 00:00:00   \n",
       "doi                                                10.1086/587736   \n",
       "num_authors                                                    77   \n",
       "num_categories                                                  1   \n",
       "primary_cat                                              astro-ph   \n",
       "title           VERITAS Observations of the gamma-Ray Binary L...   \n",
       "updated                                                       NaT   \n",
       "created_ym                                                2008-02   \n",
       "\n",
       "                                                           123208  \n",
       "abstract        We present a metamaterial-based random polariz...  \n",
       "acm_class                                                     NaN  \n",
       "arxiv_id                                                1108.3954  \n",
       "author_text     Xiaohui Ling, Hailu Luo, Chujun Zhao, Shuangch...  \n",
       "categories                                         physics.optics  \n",
       "comments                                       5 pages, 6 figures  \n",
       "created                                       2011-08-19 00:00:00  \n",
       "doi                                          10.1364/AO.51.004749  \n",
       "num_authors                                                     5  \n",
       "num_categories                                                  1  \n",
       "primary_cat                                        physics.optics  \n",
       "title           Metamaterial-based polarization control plate ...  \n",
       "updated                                       2012-07-07 00:00:00  \n",
       "created_ym                                                2011-08  "
      ]
     },
     "execution_count": 11,
     "metadata": {},
     "output_type": "execute_result"
    }
   ],
   "source": [
    "df_all.sample(2).transpose()"
   ]
  },
  {
   "cell_type": "markdown",
   "metadata": {},
   "source": [
    "# Export"
   ]
  },
  {
   "cell_type": "code",
   "execution_count": null,
   "metadata": {},
   "outputs": [],
   "source": []
  },
  {
   "cell_type": "code",
   "execution_count": 12,
   "metadata": {},
   "outputs": [],
   "source": [
    "df_all.abstract.to_csv(\"processed_data/\" + dumpdate + \"/arxiv-abstracts-all.txt\", index=False)\n",
    "df_all.title.to_csv(\"processed_data/\" + dumpdate + \"/arxiv-titles-all.txt\", index=False)"
   ]
  },
  {
   "cell_type": "code",
   "execution_count": 13,
   "metadata": {},
   "outputs": [
    {
     "data": {
      "text/plain": [
       "0"
      ]
     },
     "execution_count": 13,
     "metadata": {},
     "output_type": "execute_result"
    }
   ],
   "source": [
    "abs_all_fn = \"processed_data/\" + dumpdate + \"/arxiv-abstracts-all.txt\"\n",
    "title_all_fn = \"processed_data/\" + dumpdate + \"/arxiv-titles-all.txt\"\n",
    "\n",
    "os.system(\"zip \" + abs_all_fn + \".zip \" + abs_all_fn)\n",
    "os.system(\"zip \" + title_all_fn + \".zip \" + title_all_fn)"
   ]
  },
  {
   "cell_type": "code",
   "execution_count": 14,
   "metadata": {},
   "outputs": [],
   "source": [
    "df_250k = df_all.sample(250000, random_state = 12345)\n",
    "df_250k.abstract.to_csv(\"processed_data/\" + dumpdate + \"/arxiv-abstracts-250k.txt\", index=False)\n",
    "df_250k.title.to_csv(\"processed_data/\" + dumpdate + \"/arxiv-titles-250k.txt\", index=False)"
   ]
  },
  {
   "cell_type": "code",
   "execution_count": 15,
   "metadata": {},
   "outputs": [
    {
     "data": {
      "text/plain": [
       "0"
      ]
     },
     "execution_count": 15,
     "metadata": {},
     "output_type": "execute_result"
    }
   ],
   "source": [
    "abs_250k_fn = \"processed_data/\" + dumpdate + \"/arxiv-abstracts-250k.txt\"\n",
    "title_250k_fn = \"processed_data/\" + dumpdate + \"/arxiv-titles-250k.txt\"\n",
    "\n",
    "os.system(\"zip \" + abs_250k_fn + \".zip \" + abs_250k_fn)\n",
    "os.system(\"zip \" + title_250k_fn + \".zip \" + title_250k_fn)"
   ]
  },
  {
   "cell_type": "code",
   "execution_count": null,
   "metadata": {},
   "outputs": [],
   "source": []
  }
 ],
 "metadata": {
  "kernelspec": {
   "display_name": "Python 3",
   "language": "python",
   "name": "python3"
  },
  "language_info": {
   "codemirror_mode": {
    "name": "ipython",
    "version": 3
   },
   "file_extension": ".py",
   "mimetype": "text/x-python",
   "name": "python",
   "nbconvert_exporter": "python",
   "pygments_lexer": "ipython3",
   "version": "3.7.3"
  }
 },
 "nbformat": 4,
 "nbformat_minor": 2
}
